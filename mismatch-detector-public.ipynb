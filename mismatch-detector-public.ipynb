{
 "cells": [
  {
   "cell_type": "code",
   "execution_count": 57,
   "metadata": {},
   "outputs": [],
   "source": [
    "import pandas as pd"
   ]
  },
  {
   "cell_type": "code",
   "execution_count": 58,
   "metadata": {},
   "outputs": [],
   "source": [
    "cotisants = pd.read_excel('FakeData/FakeCotisants.xlsx')\n",
    "paiements = pd.read_excel('FakeData/FakeBuyers.xlsx')"
   ]
  },
  {
   "cell_type": "code",
   "execution_count": 59,
   "metadata": {},
   "outputs": [],
   "source": [
    "cotisants = cotisants['Prénom adhérent'].str.strip() + \" \" + cotisants['Nom adhérent'].str.strip()\n",
    "cotisants = pd.DataFrame({'Cotisants' : cotisants})"
   ]
  },
  {
   "cell_type": "code",
   "execution_count": 60,
   "metadata": {},
   "outputs": [],
   "source": [
    "import unicodedata as ud\n",
    "\n",
    "def normalize_name(name):\n",
    "    return name.capitalize()\n",
    "\n",
    "def remove_accents(input_str):\n",
    "    # Normalisation en forme 'NFKD' pour décomposer les accents\n",
    "    nfkd_form = ud.normalize('NFKD', input_str)\n",
    "    # Garder uniquement les caractères non diacritiques (sans accent)\n",
    "    return ''.join([c for c in nfkd_form if not ud.combining(c)])\n",
    "\n",
    "cotisants['Cotisants'] = cotisants['Cotisants'].apply(normalize_name)\n",
    "cotisants['Cotisants'] = cotisants['Cotisants'].apply(remove_accents)"
   ]
  },
  {
   "cell_type": "code",
   "execution_count": null,
   "metadata": {},
   "outputs": [],
   "source": [
    "paiements"
   ]
  },
  {
   "cell_type": "code",
   "execution_count": 62,
   "metadata": {},
   "outputs": [],
   "source": [
    "acheteur_tarif_cotisant = []\n",
    "\n",
    "for i in range(len(paiements)):\n",
    "    if paiements.loc[i,'Tarif'] == 1:\n",
    "        if paiements.loc[i,'Acheteur'] in acheteur_tarif_cotisant:\n",
    "            pass\n",
    "        else:\n",
    "            acheteur_tarif_cotisant.append(paiements.loc[i, 'Acheteur'])\n",
    "    else:\n",
    "        pass"
   ]
  },
  {
   "cell_type": "code",
   "execution_count": 63,
   "metadata": {},
   "outputs": [],
   "source": [
    "mauvais_payeur = list(set(acheteur_tarif_cotisant).difference(set(cotisants['Cotisants'].tolist())))\n",
    "#difference returns the elements that are present in the first object but not in the second."
   ]
  },
  {
   "cell_type": "markdown",
   "metadata": {},
   "source": [
    "Ceux qui ont pris tarif cotisants alors qu'il ne l'étaient pas :"
   ]
  },
  {
   "cell_type": "code",
   "execution_count": null,
   "metadata": {},
   "outputs": [],
   "source": [
    "print(len(mauvais_payeur))\n",
    "print(mauvais_payeur)"
   ]
  },
  {
   "cell_type": "markdown",
   "metadata": {},
   "source": [
    "Récupération des mails (s'il y en a)"
   ]
  },
  {
   "cell_type": "code",
   "execution_count": 65,
   "metadata": {},
   "outputs": [],
   "source": [
    "raw_df = pd.read_excel('data/achatBoutique.xlsx')"
   ]
  },
  {
   "cell_type": "code",
   "execution_count": 66,
   "metadata": {},
   "outputs": [],
   "source": [
    "import unicodedata as ud\n",
    "\n",
    "def normalize_name(name):\n",
    "    return name.capitalize()\n",
    "\n",
    "def remove_accents(input_str):\n",
    "    # Normalisation en forme 'NFKD' pour décomposer les accents\n",
    "    nfkd_form = ud.normalize('NFKD', input_str)\n",
    "    # Garder uniquement les caractères non diacritiques (sans accent)\n",
    "    return ''.join([c for c in nfkd_form if not ud.combining(c)])"
   ]
  },
  {
   "cell_type": "code",
   "execution_count": 67,
   "metadata": {},
   "outputs": [],
   "source": [
    "raw_df['Prénom payeur'] = raw_df['Prénom payeur'].apply(normalize_name)\n",
    "raw_df['Nom payeur'] = raw_df['Nom payeur'].apply(normalize_name)\n",
    "\n",
    "raw_df['Prénom payeur'] = raw_df['Prénom payeur'].apply(remove_accents)\n",
    "raw_df['Nom payeur'] = raw_df['Nom payeur'].apply(remove_accents)"
   ]
  },
  {
   "cell_type": "code",
   "execution_count": null,
   "metadata": {},
   "outputs": [],
   "source": [
    "list_mails = []\n",
    "for i in range(len(mauvais_payeur)):\n",
    "    parties = mauvais_payeur[i].split(\" \")\n",
    "    avant_espace = parties[0]\n",
    "\n",
    "    index = raw_df[raw_df['Prénom payeur']==avant_espace].index\n",
    "    email = raw_df.loc[index,'Email payeur']\n",
    "\n",
    "    list_mails.append(email)\n",
    "\n",
    "for i in range(len(list_mails)):\n",
    "    list_mails[i] = list_mails[i].to_list()[0]"
   ]
  },
  {
   "cell_type": "code",
   "execution_count": 31,
   "metadata": {},
   "outputs": [],
   "source": [
    "for email in list_mails:\n",
    "    print(email)"
   ]
  },
  {
   "cell_type": "code",
   "execution_count": null,
   "metadata": {},
   "outputs": [],
   "source": []
  }
 ],
 "metadata": {
  "kernelspec": {
   "display_name": "base",
   "language": "python",
   "name": "python3"
  },
  "language_info": {
   "codemirror_mode": {
    "name": "ipython",
    "version": 3
   },
   "file_extension": ".py",
   "mimetype": "text/x-python",
   "name": "python",
   "nbconvert_exporter": "python",
   "pygments_lexer": "ipython3",
   "version": "3.11.5"
  }
 },
 "nbformat": 4,
 "nbformat_minor": 2
}
