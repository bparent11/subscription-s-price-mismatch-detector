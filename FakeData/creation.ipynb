{
 "cells": [
  {
   "cell_type": "code",
   "execution_count": 265,
   "metadata": {},
   "outputs": [],
   "source": [
    "import pandas as pd"
   ]
  },
  {
   "cell_type": "code",
   "execution_count": 266,
   "metadata": {},
   "outputs": [],
   "source": [
    "cotisationsBDS = pd.read_excel(\"../data/cotisationsBDS.xlsx\")\n",
    "for_prices = pd.read_excel(\"../data/achatBoutique.xlsx\")"
   ]
  },
  {
   "cell_type": "code",
   "execution_count": 267,
   "metadata": {},
   "outputs": [],
   "source": [
    "first_names = ['Aaron', 'Abigail', 'Adam', 'Aiden', 'Alex', 'Alice', 'Amelia', 'Andrew', 'Anna', 'Anthony',  'Ava', 'Benjamin', 'Blake', 'Brandon', 'Brian', 'Brianna', 'Brittany', 'Brooke', 'Caleb', 'Cameron',  'Caroline', 'Carter', 'Charlotte', 'Chloe', 'Chris', 'Christian', 'Christopher', 'Claire', 'Connor', 'Daniel',  'David', 'Dylan', 'Ella', 'Emily', 'Emma', 'Ethan', 'Evan', 'Evelyn', 'Faith', 'Finn',  'Gabriel', 'Grace', 'Grayson', 'Hannah', 'Harper', 'Henry', 'Hudson', 'Hunter', 'Isaac', 'Isabella',  'Jack', 'Jackson', 'Jacob', 'James', 'Jason', 'Jayden', 'Jennifer', 'Jessica', 'John', 'Jonathan',  'Jordan', 'Joseph', 'Joshua', 'Julia', 'Julian', 'Justin', 'Kaitlyn', 'Kayla', 'Kaylee', 'Kevin',  'Kylie', 'Landon', 'Lauren', 'Layla', 'Leah', 'Liam', 'Lily', 'Logan', 'Lucas', 'Lucy',  'Luke', 'Madeline', 'Madison', 'Mason', 'Matthew', 'Megan', 'Michael', 'Mia', 'Nathan', 'Natalie',  'Nicholas', 'Noah', 'Nolan', 'Olivia', 'Owen', 'Paige', 'Parker', 'Patrick', 'Rachel', 'Reagan',  'Riley', 'Robert', 'Ryan', 'Samantha', 'Samuel', 'Sarah', 'Savannah', 'Scarlett', 'Sean', 'Sebastian',  'Sofia', 'Sophia', 'Stella', 'Stephen', 'Taylor', 'Thomas', 'Tyler', 'Victoria', 'Violet', 'William',  'Zachary', 'Zoey', 'Ariana', 'Ashley', 'Audrey', 'Austin', 'Bailey', 'Beau', 'Brody', 'Bryce',  'Camila', 'Cody', 'Colton', 'Cooper', 'Dakota', 'Daisy', 'Delilah', 'Dominic', 'Easton', 'Elijah',  'Ellie', 'Emily', 'Evan', 'Everett', 'Felix', 'Gavin', 'Gianna', 'Grant', 'Harrison', 'Isla',  'Ivy', 'Jameson', 'Jaxon', 'Jesse', 'Katherine', 'Kendall', 'Kingston', 'Kyle', 'Lila', 'Lincoln',  'Maria', 'Mckenna', 'Micah', 'Miles', 'Molly', 'Natalia', 'Nina', 'Noelle', 'Oscar', 'Paxton',  'Piper', 'Quinn', 'Ryder', 'Sadie', 'Sawyer', 'Sienna', 'Simon', 'Skye', 'Tessa', 'Theodore',  'Tristan', 'Valentina', 'Vera', 'Vivian', 'Wesley', 'Zane', 'Zara']\n",
    "\n",
    "last_names = ['Smith', 'Johnson', 'Williams', 'Brown', 'Jones', 'Garcia', 'Miller', 'Davis', 'Rodriguez', 'Martinez',  'Hernandez', 'Lopez', 'Gonzalez', 'Wilson', 'Anderson', 'Thomas', 'Taylor', 'Moore', 'Jackson', 'Martin',  'Lee', 'Perez', 'Thompson', 'White', 'Harris', 'Sanchez', 'Clark', 'Ramirez', 'Lewis', 'Robinson',  'Walker', 'Young', 'Allen', 'King', 'Wright', 'Scott', 'Torres', 'Nguyen', 'Hill', 'Flores',  'Green', 'Adams', 'Nelson', 'Baker', 'Hall', 'Rivera', 'Campbell', 'Mitchell', 'Carter', 'Roberts',  'Gomez', 'Phillips', 'Evans', 'Turner', 'Diaz', 'Parker', 'Cruz', 'Edwards', 'Collins', 'Reyes',  'Stewart', 'Morris', 'Morales', 'Murphy', 'Cook', 'Rogers', 'Gutierrez', 'Ortiz', 'Morgan', 'Cooper',  'Peterson', 'Bailey', 'Reed', 'Kelly', 'Howard', 'Ramos', 'Kim', 'Cox', 'Ward', 'Richardson',  'Watson', 'Brooks', 'Chavez', 'Wood', 'James', 'Bennett', 'Gray', 'Mendoza', 'Ruiz', 'Hughes',  'Price', 'Alvarez', 'Castillo', 'Sanders', 'Patel', 'Myers', 'Long', 'Ross', 'Foster', 'Jimenez',  'Powell', 'Jenkins', 'Perry', 'Russell', 'Sullivan', 'Bell', 'Coleman', 'Butler', 'Henderson', 'Barnes',  'Gonzales', 'Fisher', 'Vasquez', 'Simmons', 'Romero', 'Jordan', 'Patterson', 'Alexander', 'Hamilton', 'Graham',  'Reynolds', 'Griffin', 'Wallace', 'Moreno', 'West', 'Cole', 'Hayes', 'Bryant', 'Herrera', 'Gibson',  'Ellis', 'Tran', 'Medina', 'Aguilar', 'Stevens', 'Murray', 'Ford', 'Castro', 'Marshall', 'Owens',  'Harrison', 'Fernandez', 'McDonald', 'Woods', 'Washington', 'Kennedy', 'Wells', 'Vargas', 'Henry', 'Chen',  'Freeman', 'Webb', 'Tucker', 'Guzman', 'Burns', 'Crawford', 'Olson', 'Simpson', 'Porter', 'Hunter',  'Gordon', 'Mendez', 'Silva', 'Shaw', 'Snyder', 'Mason', 'Dixon', 'Munoz', 'Hunt', 'Hicks',  'Holmes', 'Palmer', 'Wagner', 'Black', 'Robertson', 'Boyd', 'Rose', 'Stone', 'Salazar', 'Fox',  'Warren', 'Mills', 'Meyer', 'Rice', 'Schmidt', 'Garza', 'Daniels']"
   ]
  },
  {
   "cell_type": "code",
   "execution_count": null,
   "metadata": {},
   "outputs": [],
   "source": [
    "print(len(last_names))\n",
    "print(len(first_names))"
   ]
  },
  {
   "cell_type": "code",
   "execution_count": null,
   "metadata": {},
   "outputs": [],
   "source": [
    "acheteurs_prenom = first_names\n",
    "print(len(acheteurs_prenom))\n",
    "acheteurs_nom = last_names\n",
    "\n",
    "\n",
    "cotisants_prenom = first_names[:50]\n",
    "cotisants_nom = last_names[:50]\n",
    "print(len(cotisants_prenom))"
   ]
  },
  {
   "cell_type": "code",
   "execution_count": null,
   "metadata": {},
   "outputs": [],
   "source": [
    "cotisationsBDS = pd.DataFrame({\"Nom adhérent\" : cotisants_nom, \"Prénom adhérent\" : cotisants_prenom})\n",
    "cotisationsBDS.tail(2)"
   ]
  },
  {
   "cell_type": "code",
   "execution_count": null,
   "metadata": {},
   "outputs": [],
   "source": [
    "achatBoutique = pd.DataFrame({\"Nom adhérent\" : acheteurs_nom, \"Prénom adhérent\" : acheteurs_prenom})\n",
    "achatBoutique.tail(2)"
   ]
  },
  {
   "cell_type": "code",
   "execution_count": 272,
   "metadata": {},
   "outputs": [],
   "source": [
    "tarifs = pd.DataFrame({\"Tarif\" : for_prices[\"Tarif\"]})"
   ]
  },
  {
   "cell_type": "code",
   "execution_count": null,
   "metadata": {},
   "outputs": [],
   "source": [
    "tarifs = tarifs[\"Tarif\"].unique().tolist()\n",
    "tarifs"
   ]
  },
  {
   "cell_type": "code",
   "execution_count": null,
   "metadata": {},
   "outputs": [],
   "source": [
    "import random\n",
    "\n",
    "random_number = random.randint(0, len(tarifs))\n",
    "random_number"
   ]
  },
  {
   "cell_type": "code",
   "execution_count": 275,
   "metadata": {},
   "outputs": [],
   "source": [
    "achatBoutique[\"Tarifs\"]=0"
   ]
  },
  {
   "cell_type": "code",
   "execution_count": null,
   "metadata": {},
   "outputs": [],
   "source": [
    "for i in range(len(achatBoutique)):\n",
    "    random_number = random.randint(0, len(tarifs)-1)\n",
    "    achatBoutique.loc[i, \"Tarifs\"] = tarifs[random_number]"
   ]
  },
  {
   "cell_type": "code",
   "execution_count": null,
   "metadata": {},
   "outputs": [],
   "source": [
    "achatBoutique.head()"
   ]
  },
  {
   "cell_type": "code",
   "execution_count": 278,
   "metadata": {},
   "outputs": [],
   "source": [
    "achatBoutique['Tarif']=0\n",
    "for i in range(len(achatBoutique)):\n",
    "    if \"(Cotisant)\" in str(achatBoutique.iloc[i, 2]):\n",
    "        achatBoutique.loc[i,'Tarif'] = 1\n",
    "\n",
    "achatBoutique.drop(columns=\"Tarifs\", inplace=True)"
   ]
  },
  {
   "cell_type": "code",
   "execution_count": null,
   "metadata": {},
   "outputs": [],
   "source": [
    "achatBoutique.head()"
   ]
  },
  {
   "cell_type": "code",
   "execution_count": 280,
   "metadata": {},
   "outputs": [],
   "source": [
    "achatBoutique[\"Acheteur\"] = achatBoutique['Nom adhérent'].str.strip() + \" \" + achatBoutique['Prénom adhérent'].str.strip()\n",
    "achatBoutique.drop(columns=[\"Nom adhérent\", \"Prénom adhérent\"], inplace=True)"
   ]
  },
  {
   "cell_type": "code",
   "execution_count": 281,
   "metadata": {},
   "outputs": [],
   "source": [
    "cotisationsBDS.to_excel(\"FakeCotisants.xlsx\", index=False)\n",
    "achatBoutique.to_excel(\"FakeBuyers.xlsx\", index=False)"
   ]
  },
  {
   "cell_type": "markdown",
   "metadata": {},
   "source": [
    "Now we've created and cleaned our fake data, we can test it in the file \"mismatch-detector-public.ipynb\""
   ]
  }
 ],
 "metadata": {
  "kernelspec": {
   "display_name": "base",
   "language": "python",
   "name": "python3"
  },
  "language_info": {
   "codemirror_mode": {
    "name": "ipython",
    "version": 3
   },
   "file_extension": ".py",
   "mimetype": "text/x-python",
   "name": "python",
   "nbconvert_exporter": "python",
   "pygments_lexer": "ipython3",
   "version": "3.11.5"
  }
 },
 "nbformat": 4,
 "nbformat_minor": 2
}
